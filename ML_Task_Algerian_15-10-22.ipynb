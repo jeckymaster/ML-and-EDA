{
 "cells": [
  {
   "cell_type": "markdown",
   "id": "83ab1704",
   "metadata": {},
   "source": [
    "# 1) Problem statement."
   ]
  },
  {
   "cell_type": "markdown",
   "id": "6805a88c",
   "metadata": {},
   "source": [
    "This dataset is the collection of Algerian Forest Fire incidents with records of around 4 months.\n",
    "\n",
    "From this data obtain the sub-data of weather observation and take the output as Rain\n",
    "\n",
    "like in what types of conditions are favourable for the Rain to happen.\n"
   ]
  },
  {
   "cell_type": "markdown",
   "id": "66a17ba7",
   "metadata": {},
   "source": [
    "# 2) Data Collection."
   ]
  },
  {
   "cell_type": "markdown",
   "id": "f6b0e989",
   "metadata": {},
   "source": [
    "The Dataset is collected from UCI Mechine Learing Reposatory.\n",
    "\n",
    "The dataset having 14 columns and 244 rows."
   ]
  },
  {
   "cell_type": "markdown",
   "id": "11627c3a",
   "metadata": {},
   "source": [
    "# Information of the AFF dataset is as below"
   ]
  },
  {
   "cell_type": "markdown",
   "id": "9d00395a",
   "metadata": {},
   "source": [
    "1. Date : (DD/MM/YYYY) Day, month ('june' to 'september'), year (2012)\n",
    "\n",
    "Weather data observations\n",
    "\n",
    "2. Temp : temperature noon (temperature max) in Celsius degrees: 22 to 42\n",
    "3. RH : Relative Humidity in %: 21 to 90\n",
    "4. Ws :Wind speed in km/h: 6 to 29\n",
    "5. Rain: total day in mm: 0 to 16.8\n",
    "\n",
    "FWI Components\n",
    "\n",
    "6. Fine Fuel Moisture Code (FFMC) index from the FWI system: 28.6 to 92.5\n",
    "7. Duff Moisture Code (DMC) index from the FWI system: 1.1 to 65.9\n",
    "8. Drought Code (DC) index from the FWI system: 7 to 220.4\n",
    "9. Initial Spread Index (ISI) index from the FWI system: 0 to 18.5\n",
    "10. Buildup Index (BUI) index from the FWI system: 1.1 to 68\n",
    "11. Fire Weather Index (FWI) Index: 0 to 31.1\n",
    "12. Classes: two classes, namely Fire and not Fire"
   ]
  },
  {
   "cell_type": "markdown",
   "id": "4b8e126e",
   "metadata": {},
   "source": [
    "**Importing Libraries**"
   ]
  },
  {
   "cell_type": "code",
   "execution_count": 42,
   "id": "6c55a606",
   "metadata": {},
   "outputs": [],
   "source": [
    "import pandas as pd\n",
    "import numpy as np\n",
    "import matplotlib.pyplot as plt\n",
    "import seaborn as sns\n",
    "from pandas_profiling import ProfileReport\n",
    "from scipy.stats import chi2_contingency\n",
    "%matplotlib inline"
   ]
  },
  {
   "cell_type": "code",
   "execution_count": 43,
   "id": "eab875a9",
   "metadata": {},
   "outputs": [
    {
     "data": {
      "text/html": [
       "<div>\n",
       "<style scoped>\n",
       "    .dataframe tbody tr th:only-of-type {\n",
       "        vertical-align: middle;\n",
       "    }\n",
       "\n",
       "    .dataframe tbody tr th {\n",
       "        vertical-align: top;\n",
       "    }\n",
       "\n",
       "    .dataframe thead th {\n",
       "        text-align: right;\n",
       "    }\n",
       "</style>\n",
       "<table border=\"1\" class=\"dataframe\">\n",
       "  <thead>\n",
       "    <tr style=\"text-align: right;\">\n",
       "      <th></th>\n",
       "      <th>day</th>\n",
       "      <th>month</th>\n",
       "      <th>year</th>\n",
       "      <th>Temperature</th>\n",
       "      <th>RH</th>\n",
       "      <th>Ws</th>\n",
       "      <th>Rain</th>\n",
       "      <th>FFMC</th>\n",
       "      <th>DMC</th>\n",
       "      <th>DC</th>\n",
       "      <th>ISI</th>\n",
       "      <th>BUI</th>\n",
       "      <th>FWI</th>\n",
       "      <th>Classes</th>\n",
       "    </tr>\n",
       "  </thead>\n",
       "  <tbody>\n",
       "    <tr>\n",
       "      <th>0</th>\n",
       "      <td>01</td>\n",
       "      <td>06</td>\n",
       "      <td>2012</td>\n",
       "      <td>29</td>\n",
       "      <td>57</td>\n",
       "      <td>18</td>\n",
       "      <td>0</td>\n",
       "      <td>65.7</td>\n",
       "      <td>3.4</td>\n",
       "      <td>7.6</td>\n",
       "      <td>1.3</td>\n",
       "      <td>3.4</td>\n",
       "      <td>0.5</td>\n",
       "      <td>not fire</td>\n",
       "    </tr>\n",
       "    <tr>\n",
       "      <th>1</th>\n",
       "      <td>02</td>\n",
       "      <td>06</td>\n",
       "      <td>2012</td>\n",
       "      <td>29</td>\n",
       "      <td>61</td>\n",
       "      <td>13</td>\n",
       "      <td>1.3</td>\n",
       "      <td>64.4</td>\n",
       "      <td>4.1</td>\n",
       "      <td>7.6</td>\n",
       "      <td>1</td>\n",
       "      <td>3.9</td>\n",
       "      <td>0.4</td>\n",
       "      <td>not fire</td>\n",
       "    </tr>\n",
       "    <tr>\n",
       "      <th>2</th>\n",
       "      <td>03</td>\n",
       "      <td>06</td>\n",
       "      <td>2012</td>\n",
       "      <td>26</td>\n",
       "      <td>82</td>\n",
       "      <td>22</td>\n",
       "      <td>13.1</td>\n",
       "      <td>47.1</td>\n",
       "      <td>2.5</td>\n",
       "      <td>7.1</td>\n",
       "      <td>0.3</td>\n",
       "      <td>2.7</td>\n",
       "      <td>0.1</td>\n",
       "      <td>not fire</td>\n",
       "    </tr>\n",
       "    <tr>\n",
       "      <th>3</th>\n",
       "      <td>04</td>\n",
       "      <td>06</td>\n",
       "      <td>2012</td>\n",
       "      <td>25</td>\n",
       "      <td>89</td>\n",
       "      <td>13</td>\n",
       "      <td>2.5</td>\n",
       "      <td>28.6</td>\n",
       "      <td>1.3</td>\n",
       "      <td>6.9</td>\n",
       "      <td>0</td>\n",
       "      <td>1.7</td>\n",
       "      <td>0</td>\n",
       "      <td>not fire</td>\n",
       "    </tr>\n",
       "    <tr>\n",
       "      <th>4</th>\n",
       "      <td>05</td>\n",
       "      <td>06</td>\n",
       "      <td>2012</td>\n",
       "      <td>27</td>\n",
       "      <td>77</td>\n",
       "      <td>16</td>\n",
       "      <td>0</td>\n",
       "      <td>64.8</td>\n",
       "      <td>3</td>\n",
       "      <td>14.2</td>\n",
       "      <td>1.2</td>\n",
       "      <td>3.9</td>\n",
       "      <td>0.5</td>\n",
       "      <td>not fire</td>\n",
       "    </tr>\n",
       "  </tbody>\n",
       "</table>\n",
       "</div>"
      ],
      "text/plain": [
       "  day month  year Temperature  RH  Ws Rain   FFMC  DMC    DC  ISI  BUI  FWI  \\\n",
       "0  01    06  2012          29  57  18     0  65.7  3.4   7.6  1.3  3.4  0.5   \n",
       "1  02    06  2012          29  61  13   1.3  64.4  4.1   7.6    1  3.9  0.4   \n",
       "2  03    06  2012          26  82  22  13.1  47.1  2.5   7.1  0.3  2.7  0.1   \n",
       "3  04    06  2012          25  89  13   2.5  28.6  1.3   6.9    0  1.7    0   \n",
       "4  05    06  2012          27  77  16     0  64.8    3  14.2  1.2  3.9  0.5   \n",
       "\n",
       "     Classes    \n",
       "0  not fire     \n",
       "1  not fire     \n",
       "2  not fire     \n",
       "3  not fire     \n",
       "4  not fire     "
      ]
     },
     "execution_count": 43,
     "metadata": {},
     "output_type": "execute_result"
    }
   ],
   "source": [
    "df_full = pd.read_csv(r'C:\\Users\\Jecky\\Python Jecky\\Dataset\\Algerian_forest_fires_dataset_UPDATE.csv', header=1)\n",
    "df_full.head()"
   ]
  },
  {
   "cell_type": "code",
   "execution_count": 44,
   "id": "9b179d5b",
   "metadata": {},
   "outputs": [
    {
     "data": {
      "text/plain": [
       "(246, 14)"
      ]
     },
     "execution_count": 44,
     "metadata": {},
     "output_type": "execute_result"
    }
   ],
   "source": [
    "df_full.shape"
   ]
  },
  {
   "cell_type": "markdown",
   "id": "1febae88",
   "metadata": {},
   "source": [
    "**The given data is for two different region and also given as same.**\n",
    "**Need to make one single dataframe from that**"
   ]
  },
  {
   "cell_type": "code",
   "execution_count": 45,
   "id": "515d91e7",
   "metadata": {},
   "outputs": [],
   "source": [
    "df_full.drop(labels=[122,123], axis=0, inplace=True)"
   ]
  },
  {
   "cell_type": "markdown",
   "id": "9052625c",
   "metadata": {},
   "source": [
    "**Giving the values to two region to two diferent**"
   ]
  },
  {
   "cell_type": "code",
   "execution_count": 46,
   "id": "b2128910",
   "metadata": {},
   "outputs": [
    {
     "name": "stderr",
     "output_type": "stream",
     "text": [
      "C:\\Users\\Jecky\\AppData\\Local\\Temp\\ipykernel_17296\\1290048584.py:2: SettingWithCopyWarning: \n",
      "A value is trying to be set on a copy of a slice from a DataFrame\n",
      "\n",
      "See the caveats in the documentation: https://pandas.pydata.org/pandas-docs/stable/user_guide/indexing.html#returning-a-view-versus-a-copy\n",
      "  df_full['Region'][122:]= 1\n"
     ]
    }
   ],
   "source": [
    "df_full['Region']= 0\n",
    "df_full['Region'][122:]= 1"
   ]
  },
  {
   "cell_type": "code",
   "execution_count": 47,
   "id": "e04b62c7",
   "metadata": {},
   "outputs": [
    {
     "data": {
      "text/html": [
       "<div>\n",
       "<style scoped>\n",
       "    .dataframe tbody tr th:only-of-type {\n",
       "        vertical-align: middle;\n",
       "    }\n",
       "\n",
       "    .dataframe tbody tr th {\n",
       "        vertical-align: top;\n",
       "    }\n",
       "\n",
       "    .dataframe thead th {\n",
       "        text-align: right;\n",
       "    }\n",
       "</style>\n",
       "<table border=\"1\" class=\"dataframe\">\n",
       "  <thead>\n",
       "    <tr style=\"text-align: right;\">\n",
       "      <th></th>\n",
       "      <th>day</th>\n",
       "      <th>month</th>\n",
       "      <th>year</th>\n",
       "      <th>Temperature</th>\n",
       "      <th>RH</th>\n",
       "      <th>Ws</th>\n",
       "      <th>Rain</th>\n",
       "      <th>FFMC</th>\n",
       "      <th>DMC</th>\n",
       "      <th>DC</th>\n",
       "      <th>ISI</th>\n",
       "      <th>BUI</th>\n",
       "      <th>FWI</th>\n",
       "      <th>Classes</th>\n",
       "      <th>Region</th>\n",
       "    </tr>\n",
       "  </thead>\n",
       "  <tbody>\n",
       "    <tr>\n",
       "      <th>0</th>\n",
       "      <td>01</td>\n",
       "      <td>06</td>\n",
       "      <td>2012</td>\n",
       "      <td>29</td>\n",
       "      <td>57</td>\n",
       "      <td>18</td>\n",
       "      <td>0</td>\n",
       "      <td>65.7</td>\n",
       "      <td>3.4</td>\n",
       "      <td>7.6</td>\n",
       "      <td>1.3</td>\n",
       "      <td>3.4</td>\n",
       "      <td>0.5</td>\n",
       "      <td>not fire</td>\n",
       "      <td>0</td>\n",
       "    </tr>\n",
       "    <tr>\n",
       "      <th>1</th>\n",
       "      <td>02</td>\n",
       "      <td>06</td>\n",
       "      <td>2012</td>\n",
       "      <td>29</td>\n",
       "      <td>61</td>\n",
       "      <td>13</td>\n",
       "      <td>1.3</td>\n",
       "      <td>64.4</td>\n",
       "      <td>4.1</td>\n",
       "      <td>7.6</td>\n",
       "      <td>1</td>\n",
       "      <td>3.9</td>\n",
       "      <td>0.4</td>\n",
       "      <td>not fire</td>\n",
       "      <td>0</td>\n",
       "    </tr>\n",
       "    <tr>\n",
       "      <th>2</th>\n",
       "      <td>03</td>\n",
       "      <td>06</td>\n",
       "      <td>2012</td>\n",
       "      <td>26</td>\n",
       "      <td>82</td>\n",
       "      <td>22</td>\n",
       "      <td>13.1</td>\n",
       "      <td>47.1</td>\n",
       "      <td>2.5</td>\n",
       "      <td>7.1</td>\n",
       "      <td>0.3</td>\n",
       "      <td>2.7</td>\n",
       "      <td>0.1</td>\n",
       "      <td>not fire</td>\n",
       "      <td>0</td>\n",
       "    </tr>\n",
       "    <tr>\n",
       "      <th>3</th>\n",
       "      <td>04</td>\n",
       "      <td>06</td>\n",
       "      <td>2012</td>\n",
       "      <td>25</td>\n",
       "      <td>89</td>\n",
       "      <td>13</td>\n",
       "      <td>2.5</td>\n",
       "      <td>28.6</td>\n",
       "      <td>1.3</td>\n",
       "      <td>6.9</td>\n",
       "      <td>0</td>\n",
       "      <td>1.7</td>\n",
       "      <td>0</td>\n",
       "      <td>not fire</td>\n",
       "      <td>0</td>\n",
       "    </tr>\n",
       "    <tr>\n",
       "      <th>4</th>\n",
       "      <td>05</td>\n",
       "      <td>06</td>\n",
       "      <td>2012</td>\n",
       "      <td>27</td>\n",
       "      <td>77</td>\n",
       "      <td>16</td>\n",
       "      <td>0</td>\n",
       "      <td>64.8</td>\n",
       "      <td>3</td>\n",
       "      <td>14.2</td>\n",
       "      <td>1.2</td>\n",
       "      <td>3.9</td>\n",
       "      <td>0.5</td>\n",
       "      <td>not fire</td>\n",
       "      <td>0</td>\n",
       "    </tr>\n",
       "  </tbody>\n",
       "</table>\n",
       "</div>"
      ],
      "text/plain": [
       "  day month  year Temperature  RH  Ws Rain   FFMC  DMC    DC  ISI  BUI  FWI  \\\n",
       "0  01    06  2012          29  57  18     0  65.7  3.4   7.6  1.3  3.4  0.5   \n",
       "1  02    06  2012          29  61  13   1.3  64.4  4.1   7.6    1  3.9  0.4   \n",
       "2  03    06  2012          26  82  22  13.1  47.1  2.5   7.1  0.3  2.7  0.1   \n",
       "3  04    06  2012          25  89  13   2.5  28.6  1.3   6.9    0  1.7    0   \n",
       "4  05    06  2012          27  77  16     0  64.8    3  14.2  1.2  3.9  0.5   \n",
       "\n",
       "     Classes    Region  \n",
       "0  not fire          0  \n",
       "1  not fire          0  \n",
       "2  not fire          0  \n",
       "3  not fire          0  \n",
       "4  not fire          0  "
      ]
     },
     "execution_count": 47,
     "metadata": {},
     "output_type": "execute_result"
    }
   ],
   "source": [
    "df_full.head()"
   ]
  },
  {
   "cell_type": "code",
   "execution_count": 48,
   "id": "cdf0ee49",
   "metadata": {},
   "outputs": [],
   "source": [
    "df_full.columns=['DAY','MONTH','YEAR','TEMPERATURE','RH','Ws','Rain','FFMC','DMC','DC','ISI','BUI','FWI','CLASSES','REGION']"
   ]
  },
  {
   "cell_type": "code",
   "execution_count": 49,
   "id": "4455fbd5",
   "metadata": {},
   "outputs": [
    {
     "data": {
      "text/plain": [
       "DAY                 14\n",
       "MONTH               07\n",
       "YEAR              2012\n",
       "TEMPERATURE         37\n",
       "RH                  37\n",
       "Ws                  18\n",
       "Rain               0.2\n",
       "FFMC              88.9\n",
       "DMC               12.9\n",
       "DC              14.6 9\n",
       "ISI               12.5\n",
       "BUI               10.4\n",
       "FWI            fire   \n",
       "CLASSES            NaN\n",
       "REGION               1\n",
       "Name: 167, dtype: object"
      ]
     },
     "execution_count": 49,
     "metadata": {},
     "output_type": "execute_result"
    }
   ],
   "source": [
    "df_full.loc[167]"
   ]
  },
  {
   "cell_type": "markdown",
   "id": "d42236d9",
   "metadata": {},
   "source": [
    "From the above, it is clear that we need to handle the values of row 167 carefully without loosing the row.\n",
    "\n",
    "I think it has been shifted to the left as the typing mistake"
   ]
  },
  {
   "cell_type": "code",
   "execution_count": 50,
   "id": "138ca97e",
   "metadata": {},
   "outputs": [],
   "source": [
    "df_full.at[167, 'DC']=14.6\n",
    "df_full.at[167, 'ISI']=9\n",
    "df_full.at[167, 'BUI']=12.5\n",
    "df_full.at[167, 'FWI']=10.4"
   ]
  },
  {
   "cell_type": "code",
   "execution_count": 51,
   "id": "3eed4821",
   "metadata": {},
   "outputs": [
    {
     "data": {
      "text/html": [
       "<div>\n",
       "<style scoped>\n",
       "    .dataframe tbody tr th:only-of-type {\n",
       "        vertical-align: middle;\n",
       "    }\n",
       "\n",
       "    .dataframe tbody tr th {\n",
       "        vertical-align: top;\n",
       "    }\n",
       "\n",
       "    .dataframe thead th {\n",
       "        text-align: right;\n",
       "    }\n",
       "</style>\n",
       "<table border=\"1\" class=\"dataframe\">\n",
       "  <thead>\n",
       "    <tr style=\"text-align: right;\">\n",
       "      <th></th>\n",
       "      <th>REGION</th>\n",
       "    </tr>\n",
       "  </thead>\n",
       "  <tbody>\n",
       "    <tr>\n",
       "      <th>REGION</th>\n",
       "      <td>1.0</td>\n",
       "    </tr>\n",
       "  </tbody>\n",
       "</table>\n",
       "</div>"
      ],
      "text/plain": [
       "        REGION\n",
       "REGION     1.0"
      ]
     },
     "execution_count": 51,
     "metadata": {},
     "output_type": "execute_result"
    }
   ],
   "source": []
  },
  {
   "cell_type": "markdown",
   "id": "3a5bddc9",
   "metadata": {},
   "source": [
    "Time to make subset from the wholeset"
   ]
  },
  {
   "cell_type": "code",
   "execution_count": 29,
   "id": "8e85e563",
   "metadata": {},
   "outputs": [],
   "source": [
    "adf = df_full[['TEMPERATURE','RH','Ws','Rain']]"
   ]
  },
  {
   "cell_type": "code",
   "execution_count": 32,
   "id": "eab70027",
   "metadata": {},
   "outputs": [
    {
     "data": {
      "text/plain": [
       "TEMPERATURE    0\n",
       "RH             0\n",
       "Ws             0\n",
       "Rain           0\n",
       "dtype: int64"
      ]
     },
     "execution_count": 32,
     "metadata": {},
     "output_type": "execute_result"
    }
   ],
   "source": [
    "adf.isnull().sum()"
   ]
  },
  {
   "cell_type": "code",
   "execution_count": 35,
   "id": "4591aaff",
   "metadata": {},
   "outputs": [
    {
     "data": {
      "text/html": [
       "<div>\n",
       "<style scoped>\n",
       "    .dataframe tbody tr th:only-of-type {\n",
       "        vertical-align: middle;\n",
       "    }\n",
       "\n",
       "    .dataframe tbody tr th {\n",
       "        vertical-align: top;\n",
       "    }\n",
       "\n",
       "    .dataframe thead th {\n",
       "        text-align: right;\n",
       "    }\n",
       "</style>\n",
       "<table border=\"1\" class=\"dataframe\">\n",
       "  <thead>\n",
       "    <tr style=\"text-align: right;\">\n",
       "      <th></th>\n",
       "      <th>TEMPERATURE</th>\n",
       "      <th>RH</th>\n",
       "      <th>Ws</th>\n",
       "      <th>Rain</th>\n",
       "    </tr>\n",
       "  </thead>\n",
       "  <tbody>\n",
       "    <tr>\n",
       "      <th>0</th>\n",
       "      <td>29</td>\n",
       "      <td>57</td>\n",
       "      <td>18</td>\n",
       "      <td>0</td>\n",
       "    </tr>\n",
       "    <tr>\n",
       "      <th>1</th>\n",
       "      <td>29</td>\n",
       "      <td>61</td>\n",
       "      <td>13</td>\n",
       "      <td>1.3</td>\n",
       "    </tr>\n",
       "    <tr>\n",
       "      <th>2</th>\n",
       "      <td>26</td>\n",
       "      <td>82</td>\n",
       "      <td>22</td>\n",
       "      <td>13.1</td>\n",
       "    </tr>\n",
       "    <tr>\n",
       "      <th>3</th>\n",
       "      <td>25</td>\n",
       "      <td>89</td>\n",
       "      <td>13</td>\n",
       "      <td>2.5</td>\n",
       "    </tr>\n",
       "    <tr>\n",
       "      <th>4</th>\n",
       "      <td>27</td>\n",
       "      <td>77</td>\n",
       "      <td>16</td>\n",
       "      <td>0</td>\n",
       "    </tr>\n",
       "    <tr>\n",
       "      <th>...</th>\n",
       "      <td>...</td>\n",
       "      <td>...</td>\n",
       "      <td>...</td>\n",
       "      <td>...</td>\n",
       "    </tr>\n",
       "    <tr>\n",
       "      <th>241</th>\n",
       "      <td>30</td>\n",
       "      <td>65</td>\n",
       "      <td>14</td>\n",
       "      <td>0</td>\n",
       "    </tr>\n",
       "    <tr>\n",
       "      <th>242</th>\n",
       "      <td>28</td>\n",
       "      <td>87</td>\n",
       "      <td>15</td>\n",
       "      <td>4.4</td>\n",
       "    </tr>\n",
       "    <tr>\n",
       "      <th>243</th>\n",
       "      <td>27</td>\n",
       "      <td>87</td>\n",
       "      <td>29</td>\n",
       "      <td>0.5</td>\n",
       "    </tr>\n",
       "    <tr>\n",
       "      <th>244</th>\n",
       "      <td>24</td>\n",
       "      <td>54</td>\n",
       "      <td>18</td>\n",
       "      <td>0.1</td>\n",
       "    </tr>\n",
       "    <tr>\n",
       "      <th>245</th>\n",
       "      <td>24</td>\n",
       "      <td>64</td>\n",
       "      <td>15</td>\n",
       "      <td>0.2</td>\n",
       "    </tr>\n",
       "  </tbody>\n",
       "</table>\n",
       "<p>244 rows × 4 columns</p>\n",
       "</div>"
      ],
      "text/plain": [
       "    TEMPERATURE  RH  Ws  Rain\n",
       "0            29  57  18     0\n",
       "1            29  61  13   1.3\n",
       "2            26  82  22  13.1\n",
       "3            25  89  13   2.5\n",
       "4            27  77  16     0\n",
       "..          ...  ..  ..   ...\n",
       "241          30  65  14     0\n",
       "242          28  87  15   4.4\n",
       "243          27  87  29   0.5\n",
       "244          24  54  18   0.1\n",
       "245          24  64  15   0.2\n",
       "\n",
       "[244 rows x 4 columns]"
      ]
     },
     "execution_count": 35,
     "metadata": {},
     "output_type": "execute_result"
    }
   ],
   "source": [
    "adf"
   ]
  },
  {
   "cell_type": "code",
   "execution_count": 38,
   "id": "64bd1e69",
   "metadata": {},
   "outputs": [
    {
     "data": {
      "text/plain": [
       "TEMPERATURE    object\n",
       "RH             object\n",
       "Ws             object\n",
       "Rain           object\n",
       "dtype: object"
      ]
     },
     "execution_count": 38,
     "metadata": {},
     "output_type": "execute_result"
    }
   ],
   "source": [
    "adf.dtypes"
   ]
  },
  {
   "cell_type": "code",
   "execution_count": 40,
   "id": "ec0de62f",
   "metadata": {},
   "outputs": [
    {
     "name": "stderr",
     "output_type": "stream",
     "text": [
      "C:\\Users\\Jecky\\AppData\\Local\\Temp\\ipykernel_17296\\1142860209.py:1: SettingWithCopyWarning: \n",
      "A value is trying to be set on a copy of a slice from a DataFrame.\n",
      "Try using .loc[row_indexer,col_indexer] = value instead\n",
      "\n",
      "See the caveats in the documentation: https://pandas.pydata.org/pandas-docs/stable/user_guide/indexing.html#returning-a-view-versus-a-copy\n",
      "  adf['TEMPERATURE'] = adf['TEMPERATURE'].astype(int)\n",
      "C:\\Users\\Jecky\\AppData\\Local\\Temp\\ipykernel_17296\\1142860209.py:2: SettingWithCopyWarning: \n",
      "A value is trying to be set on a copy of a slice from a DataFrame.\n",
      "Try using .loc[row_indexer,col_indexer] = value instead\n",
      "\n",
      "See the caveats in the documentation: https://pandas.pydata.org/pandas-docs/stable/user_guide/indexing.html#returning-a-view-versus-a-copy\n",
      "  adf['RH'] = adf['RH'].astype(int)\n",
      "C:\\Users\\Jecky\\AppData\\Local\\Temp\\ipykernel_17296\\1142860209.py:3: SettingWithCopyWarning: \n",
      "A value is trying to be set on a copy of a slice from a DataFrame.\n",
      "Try using .loc[row_indexer,col_indexer] = value instead\n",
      "\n",
      "See the caveats in the documentation: https://pandas.pydata.org/pandas-docs/stable/user_guide/indexing.html#returning-a-view-versus-a-copy\n",
      "  adf['Ws'] = adf['Ws'].astype(int)\n",
      "C:\\Users\\Jecky\\AppData\\Local\\Temp\\ipykernel_17296\\1142860209.py:4: SettingWithCopyWarning: \n",
      "A value is trying to be set on a copy of a slice from a DataFrame.\n",
      "Try using .loc[row_indexer,col_indexer] = value instead\n",
      "\n",
      "See the caveats in the documentation: https://pandas.pydata.org/pandas-docs/stable/user_guide/indexing.html#returning-a-view-versus-a-copy\n",
      "  adf['Rain'] = adf['Rain'].astype(float)\n"
     ]
    }
   ],
   "source": [
    "adf['TEMPERATURE'] = adf['TEMPERATURE'].astype(int)\n",
    "adf['RH'] = adf['RH'].astype(int)\n",
    "adf['Ws'] = adf['Ws'].astype(int)\n",
    "adf['Rain'] = adf['Rain'].astype(float)"
   ]
  },
  {
   "cell_type": "code",
   "execution_count": 41,
   "id": "d3e5c46d",
   "metadata": {},
   "outputs": [
    {
     "data": {
      "text/html": [
       "<div>\n",
       "<style scoped>\n",
       "    .dataframe tbody tr th:only-of-type {\n",
       "        vertical-align: middle;\n",
       "    }\n",
       "\n",
       "    .dataframe tbody tr th {\n",
       "        vertical-align: top;\n",
       "    }\n",
       "\n",
       "    .dataframe thead th {\n",
       "        text-align: right;\n",
       "    }\n",
       "</style>\n",
       "<table border=\"1\" class=\"dataframe\">\n",
       "  <thead>\n",
       "    <tr style=\"text-align: right;\">\n",
       "      <th></th>\n",
       "      <th>TEMPERATURE</th>\n",
       "      <th>RH</th>\n",
       "      <th>Ws</th>\n",
       "      <th>Rain</th>\n",
       "    </tr>\n",
       "  </thead>\n",
       "  <tbody>\n",
       "    <tr>\n",
       "      <th>TEMPERATURE</th>\n",
       "      <td>1.000000</td>\n",
       "      <td>-0.654443</td>\n",
       "      <td>-0.278132</td>\n",
       "      <td>-0.326786</td>\n",
       "    </tr>\n",
       "    <tr>\n",
       "      <th>RH</th>\n",
       "      <td>-0.654443</td>\n",
       "      <td>1.000000</td>\n",
       "      <td>0.236084</td>\n",
       "      <td>0.222968</td>\n",
       "    </tr>\n",
       "    <tr>\n",
       "      <th>Ws</th>\n",
       "      <td>-0.278132</td>\n",
       "      <td>0.236084</td>\n",
       "      <td>1.000000</td>\n",
       "      <td>0.170169</td>\n",
       "    </tr>\n",
       "    <tr>\n",
       "      <th>Rain</th>\n",
       "      <td>-0.326786</td>\n",
       "      <td>0.222968</td>\n",
       "      <td>0.170169</td>\n",
       "      <td>1.000000</td>\n",
       "    </tr>\n",
       "  </tbody>\n",
       "</table>\n",
       "</div>"
      ],
      "text/plain": [
       "             TEMPERATURE        RH        Ws      Rain\n",
       "TEMPERATURE     1.000000 -0.654443 -0.278132 -0.326786\n",
       "RH             -0.654443  1.000000  0.236084  0.222968\n",
       "Ws             -0.278132  0.236084  1.000000  0.170169\n",
       "Rain           -0.326786  0.222968  0.170169  1.000000"
      ]
     },
     "execution_count": 41,
     "metadata": {},
     "output_type": "execute_result"
    }
   ],
   "source": [
    "## EDA\n",
    "adf.corr()"
   ]
  },
  {
   "cell_type": "code",
   "execution_count": 52,
   "id": "2a3b1afb",
   "metadata": {},
   "outputs": [
    {
     "data": {
      "text/plain": [
       "<seaborn.axisgrid.PairGrid at 0x1da6718cb50>"
      ]
     },
     "execution_count": 52,
     "metadata": {},
     "output_type": "execute_result"
    },
    {
     "data": {
      "image/png": "[encoded data removed]",
      "text/plain": [
       "<Figure size 720x720 with 20 Axes>"
      ]
     },
     "metadata": {
      "needs_background": "light"
     },
     "output_type": "display_data"
    }
   ],
   "source": [
    "sns.pairplot(adf)"
   ]
  },
  {
   "cell_type": "code",
   "execution_count": 53,
   "id": "8a135e36",
   "metadata": {},
   "outputs": [
    {
     "data": {
      "text/plain": [
       "<AxesSubplot:>"
      ]
     },
     "execution_count": 53,
     "metadata": {},
     "output_type": "execute_result"
    },
    {
     "data": {
      "image/png": "[encoded data removed]",
      "text/plain": [
       "<Figure size 720x576 with 2 Axes>"
      ]
     },
     "metadata": {},
     "output_type": "display_data"
    }
   ],
   "source": [
    "sns.set(rc={'figure.figsize':(10,8)})\n",
    "sns.heatmap(adf.corr(), annot=True)"
   ]
  },
  {
   "cell_type": "code",
   "execution_count": 60,
   "id": "d17b15f4",
   "metadata": {},
   "outputs": [
    {
     "data": {
      "text/plain": [
       "<AxesSubplot:xlabel='TEMPERATURE', ylabel='RH'>"
      ]
     },
     "execution_count": 60,
     "metadata": {},
     "output_type": "execute_result"
    },
    {
     "data": {
      "image/png": "[encoded data removed]",
      "text/plain": [
       "<Figure size 720x576 with 1 Axes>"
      ]
     },
     "metadata": {},
     "output_type": "display_data"
    }
   ],
   "source": [
    "sns.regplot(x='TEMPERATURE', y='RH', data=adf)"
   ]
  },
  {
   "cell_type": "code",
   "execution_count": 57,
   "id": "9eb7525c",
   "metadata": {},
   "outputs": [
    {
     "data": {
      "text/plain": [
       "<AxesSubplot:xlabel='TEMPERATURE', ylabel='Rain'>"
      ]
     },
     "execution_count": 57,
     "metadata": {},
     "output_type": "execute_result"
    },
    {
     "data": {
      "image/png": "[encoded data removed]",
      "text/plain": [
       "<Figure size 720x576 with 1 Axes>"
      ]
     },
     "metadata": {},
     "output_type": "display_data"
    }
   ],
   "source": [
    "sns.regplot(x='TEMPERATURE', y='Rain', data=adf)"
   ]
  },
  {
   "cell_type": "code",
   "execution_count": 64,
   "id": "7df90b5f",
   "metadata": {},
   "outputs": [
    {
     "data": {
      "text/plain": [
       "<AxesSubplot:xlabel='Ws', ylabel='RH'>"
      ]
     },
     "execution_count": 64,
     "metadata": {},
     "output_type": "execute_result"
    },
    {
     "data": {
      "image/png": "[encoded data removed]",
      "text/plain": [
       "<Figure size 720x576 with 1 Axes>"
      ]
     },
     "metadata": {},
     "output_type": "display_data"
    }
   ],
   "source": [
    "sns.regplot(x='Ws', y='RH', data=adf)"
   ]
  },
  {
   "cell_type": "markdown",
   "id": "fba7bf93",
   "metadata": {},
   "source": [
    "#  Independent and dependent Features"
   ]
  },
  {
   "cell_type": "code",
   "execution_count": 76,
   "id": "cd314edb",
   "metadata": {},
   "outputs": [],
   "source": [
    "# rearrange the columns in the dataframe\n",
    "adf = adf[['TEMPERATURE','Ws', \"Rain\", 'RH']]"
   ]
  },
  {
   "cell_type": "code",
   "execution_count": 77,
   "id": "67a0523a",
   "metadata": {},
   "outputs": [],
   "source": [
    "x = adf.iloc[:,:-1]\n",
    "y = adf.iloc[:,-1]"
   ]
  },
  {
   "cell_type": "code",
   "execution_count": 78,
   "id": "53c57b17",
   "metadata": {},
   "outputs": [
    {
     "data": {
      "text/html": [
       "<div>\n",
       "<style scoped>\n",
       "    .dataframe tbody tr th:only-of-type {\n",
       "        vertical-align: middle;\n",
       "    }\n",
       "\n",
       "    .dataframe tbody tr th {\n",
       "        vertical-align: top;\n",
       "    }\n",
       "\n",
       "    .dataframe thead th {\n",
       "        text-align: right;\n",
       "    }\n",
       "</style>\n",
       "<table border=\"1\" class=\"dataframe\">\n",
       "  <thead>\n",
       "    <tr style=\"text-align: right;\">\n",
       "      <th></th>\n",
       "      <th>TEMPERATURE</th>\n",
       "      <th>Ws</th>\n",
       "      <th>Rain</th>\n",
       "    </tr>\n",
       "  </thead>\n",
       "  <tbody>\n",
       "    <tr>\n",
       "      <th>0</th>\n",
       "      <td>29</td>\n",
       "      <td>18</td>\n",
       "      <td>0.0</td>\n",
       "    </tr>\n",
       "    <tr>\n",
       "      <th>1</th>\n",
       "      <td>29</td>\n",
       "      <td>13</td>\n",
       "      <td>1.3</td>\n",
       "    </tr>\n",
       "    <tr>\n",
       "      <th>2</th>\n",
       "      <td>26</td>\n",
       "      <td>22</td>\n",
       "      <td>13.1</td>\n",
       "    </tr>\n",
       "    <tr>\n",
       "      <th>3</th>\n",
       "      <td>25</td>\n",
       "      <td>13</td>\n",
       "      <td>2.5</td>\n",
       "    </tr>\n",
       "    <tr>\n",
       "      <th>4</th>\n",
       "      <td>27</td>\n",
       "      <td>16</td>\n",
       "      <td>0.0</td>\n",
       "    </tr>\n",
       "    <tr>\n",
       "      <th>...</th>\n",
       "      <td>...</td>\n",
       "      <td>...</td>\n",
       "      <td>...</td>\n",
       "    </tr>\n",
       "    <tr>\n",
       "      <th>241</th>\n",
       "      <td>30</td>\n",
       "      <td>14</td>\n",
       "      <td>0.0</td>\n",
       "    </tr>\n",
       "    <tr>\n",
       "      <th>242</th>\n",
       "      <td>28</td>\n",
       "      <td>15</td>\n",
       "      <td>4.4</td>\n",
       "    </tr>\n",
       "    <tr>\n",
       "      <th>243</th>\n",
       "      <td>27</td>\n",
       "      <td>29</td>\n",
       "      <td>0.5</td>\n",
       "    </tr>\n",
       "    <tr>\n",
       "      <th>244</th>\n",
       "      <td>24</td>\n",
       "      <td>18</td>\n",
       "      <td>0.1</td>\n",
       "    </tr>\n",
       "    <tr>\n",
       "      <th>245</th>\n",
       "      <td>24</td>\n",
       "      <td>15</td>\n",
       "      <td>0.2</td>\n",
       "    </tr>\n",
       "  </tbody>\n",
       "</table>\n",
       "<p>244 rows × 3 columns</p>\n",
       "</div>"
      ],
      "text/plain": [
       "     TEMPERATURE  Ws  Rain\n",
       "0             29  18   0.0\n",
       "1             29  13   1.3\n",
       "2             26  22  13.1\n",
       "3             25  13   2.5\n",
       "4             27  16   0.0\n",
       "..           ...  ..   ...\n",
       "241           30  14   0.0\n",
       "242           28  15   4.4\n",
       "243           27  29   0.5\n",
       "244           24  18   0.1\n",
       "245           24  15   0.2\n",
       "\n",
       "[244 rows x 3 columns]"
      ]
     },
     "execution_count": 78,
     "metadata": {},
     "output_type": "execute_result"
    }
   ],
   "source": [
    "x # Indeoendant data"
   ]
  },
  {
   "cell_type": "code",
   "execution_count": 79,
   "id": "5daae4ac",
   "metadata": {},
   "outputs": [
    {
     "data": {
      "text/plain": [
       "0      57\n",
       "1      61\n",
       "2      82\n",
       "3      89\n",
       "4      77\n",
       "       ..\n",
       "241    65\n",
       "242    87\n",
       "243    87\n",
       "244    54\n",
       "245    64\n",
       "Name: RH, Length: 244, dtype: int32"
      ]
     },
     "execution_count": 79,
     "metadata": {},
     "output_type": "execute_result"
    }
   ],
   "source": [
    "y # Deoendant data"
   ]
  },
  {
   "cell_type": "code",
   "execution_count": 80,
   "id": "a2bc040b",
   "metadata": {},
   "outputs": [],
   "source": [
    "from sklearn.model_selection import train_test_split"
   ]
  },
  {
   "cell_type": "code",
   "execution_count": 103,
   "id": "620c2bbb",
   "metadata": {},
   "outputs": [],
   "source": [
    "x_train, x_test, y_train, y_test = train_test_split(\n",
    "    x,y,test_size=0.33, random_state=20)"
   ]
  },
  {
   "cell_type": "code",
   "execution_count": 108,
   "id": "a55f4920",
   "metadata": {},
   "outputs": [],
   "source": [
    "x_train_c, x_test_c, y_train_c, y_test_c =x_train, x_test, y_train, y_test # copy for the use later"
   ]
  },
  {
   "cell_type": "markdown",
   "id": "39208a4a",
   "metadata": {},
   "source": [
    "# Algorithms"
   ]
  },
  {
   "cell_type": "markdown",
   "id": "cca91f1f",
   "metadata": {},
   "source": [
    "# Standardize the dataset"
   ]
  },
  {
   "cell_type": "code",
   "execution_count": 109,
   "id": "92c1e7f6",
   "metadata": {},
   "outputs": [
    {
     "data": {
      "text/plain": [
       "StandardScaler()"
      ]
     },
     "execution_count": 109,
     "metadata": {},
     "output_type": "execute_result"
    }
   ],
   "source": [
    "from sklearn.preprocessing import StandardScaler\n",
    "scaler = StandardScaler()\n",
    "scaler"
   ]
  },
  {
   "cell_type": "code",
   "execution_count": 110,
   "id": "fcbaa508",
   "metadata": {},
   "outputs": [],
   "source": [
    "x_train=scaler.fit_transform(x_train)\n",
    "x_test=scaler.fit_transform(x_test)"
   ]
  },
  {
   "cell_type": "markdown",
   "id": "69328579",
   "metadata": {},
   "source": [
    "#  Model Training"
   ]
  },
  {
   "cell_type": "markdown",
   "id": "76df996c",
   "metadata": {},
   "source": [
    "# Linear Regression"
   ]
  },
  {
   "cell_type": "code",
   "execution_count": 111,
   "id": "6ceca872",
   "metadata": {},
   "outputs": [],
   "source": [
    "from sklearn.linear_model import LinearRegression"
   ]
  },
  {
   "cell_type": "code",
   "execution_count": 112,
   "id": "02d45f4d",
   "metadata": {},
   "outputs": [
    {
     "data": {
      "text/plain": [
       "LinearRegression()"
      ]
     },
     "execution_count": 112,
     "metadata": {},
     "output_type": "execute_result"
    }
   ],
   "source": [
    "reg_linear = LinearRegression()\n",
    "reg_linear"
   ]
  },
  {
   "cell_type": "code",
   "execution_count": 113,
   "id": "10935103",
   "metadata": {},
   "outputs": [
    {
     "data": {
      "text/plain": [
       "LinearRegression()"
      ]
     },
     "execution_count": 113,
     "metadata": {},
     "output_type": "execute_result"
    }
   ],
   "source": [
    "reg_linear.fit(x_train, y_train)"
   ]
  },
  {
   "cell_type": "code",
   "execution_count": 114,
   "id": "965d7f2a",
   "metadata": {},
   "outputs": [
    {
     "name": "stdout",
     "output_type": "stream",
     "text": [
      "[-10.73741524  -1.58673896  -0.02207383]\n"
     ]
    }
   ],
   "source": [
    "## Print the coefficient and the intercept\n",
    "print(reg_linear.coef_)"
   ]
  },
  {
   "cell_type": "code",
   "execution_count": 115,
   "id": "3bb4e18f",
   "metadata": {},
   "outputs": [
    {
     "name": "stdout",
     "output_type": "stream",
     "text": [
      "61.88957055214724\n"
     ]
    }
   ],
   "source": [
    "## Print the coefficient and the intercept\n",
    "print(reg_linear.intercept_)"
   ]
  },
  {
   "cell_type": "code",
   "execution_count": 116,
   "id": "2cc6e6f9",
   "metadata": {},
   "outputs": [
    {
     "data": {
      "text/plain": [
       "array([55.96838558, 53.36087012, 50.29874202, 58.48034326, 51.8516151 ,\n",
       "       48.28917587, 84.91835128, 73.27506959, 62.09264179, 65.65196041,\n",
       "       86.53980733, 70.72885568, 49.29395894, 63.04964597, 53.86014105,\n",
       "       50.80113355, 63.04652536, 65.10699101, 59.48512633, 55.41821515,\n",
       "       68.67151065, 49.29395894, 72.78620071, 64.05442905, 53.86014105,\n",
       "       44.67167632, 55.90292322, 51.35130398, 59.47368409, 47.23661391,\n",
       "       64.09908732, 70.31682089, 62.50044524, 86.53772693, 74.24760633,\n",
       "       68.15871707, 83.96758831, 57.96650948, 62.53997301, 65.60938254,\n",
       "       64.10116773, 72.22250763, 55.92060669, 67.11655715, 70.22542394,\n",
       "       72.76331622, 45.22704776, 64.10220793, 62.54725444, 71.10427178,\n",
       "       66.15539215, 54.41343208, 73.78994358, 50.80009335, 55.36835586,\n",
       "       79.89651632, 51.84537388, 69.72407261, 54.36149238, 74.74694777,\n",
       "       65.60938254, 63.54475608, 50.84891244, 53.35774951, 57.97795172,\n",
       "       55.41821515, 65.13604621, 71.73363875, 47.78678433, 56.92538976,\n",
       "       52.85847859, 82.40008186, 38.0502296 , 49.29395894, 44.17448581,\n",
       "       58.48034326, 71.71283467, 67.11655715, 56.92330936, 64.10220793,\n",
       "       78.40806539])"
      ]
     },
     "execution_count": 116,
     "metadata": {},
     "output_type": "execute_result"
    }
   ],
   "source": [
    "## Prediction for the test data\n",
    "reg_pred_linear = reg_linear.predict(x_test)\n",
    "reg_pred_linear"
   ]
  },
  {
   "cell_type": "code",
   "execution_count": 117,
   "id": "aba937b8",
   "metadata": {},
   "outputs": [
    {
     "data": {
      "text/plain": [
       "Text(0, 0.5, 'Test predicted data')"
      ]
     },
     "execution_count": 117,
     "metadata": {},
     "output_type": "execute_result"
    },
    {
     "data": {
      "image/png": "[encoded data removed]",
      "text/plain": [
       "<Figure size 720x576 with 1 Axes>"
      ]
     },
     "metadata": {},
     "output_type": "display_data"
    }
   ],
   "source": [
    "plt.scatter(y_test,reg_pred_linear)\n",
    "plt.xlabel(\"Test truth data\")\n",
    "plt.ylabel(\"Test predicted data\")"
   ]
  },
  {
   "cell_type": "code",
   "execution_count": 118,
   "id": "9ae6d6a2",
   "metadata": {},
   "outputs": [
    {
     "data": {
      "text/plain": [
       "87     26.031614\n",
       "238     2.639130\n",
       "211     3.701258\n",
       "155   -10.480343\n",
       "130    -7.851615\n",
       "         ...    \n",
       "126     8.287165\n",
       "112   -12.116557\n",
       "235     1.076691\n",
       "176     6.897792\n",
       "11      2.591935\n",
       "Name: RH, Length: 81, dtype: float64"
      ]
     },
     "execution_count": 118,
     "metadata": {},
     "output_type": "execute_result"
    }
   ],
   "source": [
    "residuel_linear = y_test-reg_pred_linear\n",
    "residuel_linear"
   ]
  },
  {
   "cell_type": "code",
   "execution_count": 119,
   "id": "00937711",
   "metadata": {},
   "outputs": [
    {
     "data": {
      "text/plain": [
       "<seaborn.axisgrid.FacetGrid at 0x1da6de36400>"
      ]
     },
     "execution_count": 119,
     "metadata": {},
     "output_type": "execute_result"
    },
    {
     "data": {
      "image/png": "[encoded data removed]",
      "text/plain": [
       "<Figure size 360x360 with 1 Axes>"
      ]
     },
     "metadata": {},
     "output_type": "display_data"
    }
   ],
   "source": [
    "sns.displot(residuel_linear, kind='kde')"
   ]
  },
  {
   "cell_type": "code",
   "execution_count": 120,
   "id": "215c44e7",
   "metadata": {},
   "outputs": [
    {
     "data": {
      "text/plain": [
       "<AxesSubplot:ylabel='RH'>"
      ]
     },
     "execution_count": 120,
     "metadata": {},
     "output_type": "execute_result"
    },
    {
     "data": {
      "image/png": "[encoded data removed]",
      "text/plain": [
       "<Figure size 720x576 with 1 Axes>"
      ]
     },
     "metadata": {},
     "output_type": "display_data"
    }
   ],
   "source": [
    "# scatter plot with prediction and residuel\n",
    "# Uniformdistribution\n",
    "sns.scatterplot(x = reg_pred_linear, y=residuel_linear)"
   ]
  },
  {
   "cell_type": "markdown",
   "id": "4e201421",
   "metadata": {},
   "source": [
    "# Performance Matrix"
   ]
  },
  {
   "cell_type": "code",
   "execution_count": 121,
   "id": "0b49386d",
   "metadata": {},
   "outputs": [
    {
     "name": "stdout",
     "output_type": "stream",
     "text": [
      "9.908656796188971\n",
      "9.908656796188971\n",
      "12.207893074406265\n"
     ]
    }
   ],
   "source": [
    "from sklearn.metrics import mean_squared_error\n",
    "from sklearn.metrics import mean_absolute_error\n",
    "print(mean_absolute_error(y_test,reg_pred_linear))\n",
    "print(mean_absolute_error(y_test, reg_pred_linear))\n",
    "print(np.sqrt(mean_squared_error(y_test,reg_pred_linear)))"
   ]
  },
  {
   "cell_type": "markdown",
   "id": "d45f7f11",
   "metadata": {},
   "source": [
    "# Ridge Regression"
   ]
  },
  {
   "cell_type": "markdown",
   "id": "c994126a",
   "metadata": {},
   "source": [
    "* Different cases for tuning values of lambda.\n",
    "\n",
    "* **If lambda is set to be 0, Ridge Regression equals Linear Regression**\n",
    "* **If lambda is set to be infinity, all weights are shrunk to zero.**"
   ]
  },
  {
   "cell_type": "code",
   "execution_count": 122,
   "id": "8dcd6a3d",
   "metadata": {},
   "outputs": [
    {
     "data": {
      "text/plain": [
       "Ridge()"
      ]
     },
     "execution_count": 122,
     "metadata": {},
     "output_type": "execute_result"
    }
   ],
   "source": [
    "from sklearn.linear_model import Ridge\n",
    "regression_ridge = Ridge() # by default Alpha means Lembda is 1.0 \n",
    "regression_ridge.fit(x_train, y_train)"
   ]
  },
  {
   "cell_type": "code",
   "execution_count": 123,
   "id": "28c45f49",
   "metadata": {},
   "outputs": [
    {
     "name": "stdout",
     "output_type": "stream",
     "text": [
      "[-1.06510972e+01 -1.54978402e+00  3.89429519e-04]\n"
     ]
    }
   ],
   "source": [
    "## Print the coefficient and the intercept\n",
    "print(regression_ridge.coef_)"
   ]
  },
  {
   "cell_type": "code",
   "execution_count": 124,
   "id": "5d4f8aad",
   "metadata": {},
   "outputs": [
    {
     "name": "stdout",
     "output_type": "stream",
     "text": [
      "61.88957055214724\n"
     ]
    }
   ],
   "source": [
    "## Print the coefficient and the intercept\n",
    "print(regression_ridge.intercept_)"
   ]
  },
  {
   "cell_type": "code",
   "execution_count": 126,
   "id": "8e807793",
   "metadata": {},
   "outputs": [
    {
     "data": {
      "text/plain": [
       "array([56.05086367, 53.41067666, 50.373165  , 58.50431819, 51.93864065,\n",
       "       48.41040138, 84.67417593, 73.20142419, 62.125887  , 65.65418133,\n",
       "       86.3326508 , 70.65436486, 49.39178319, 63.01390257, 53.90142262,\n",
       "       50.8638559 , 63.01395762, 65.07003243, 59.4857    , 55.46680652,\n",
       "       68.598235  , 49.39178319, 72.71049471, 63.99528438, 53.90142262,\n",
       "       44.78892432, 55.9578094 , 51.44791305, 59.48590186, 47.33565333,\n",
       "       64.08870567, 70.35049819, 62.52403748, 86.3326875 , 74.18337489,\n",
       "       68.10772761, 83.78605025, 58.01382915, 62.52334012, 65.56072333,\n",
       "       64.08866897, 72.12667614, 55.95749743, 67.03279605, 70.1636923 ,\n",
       "       72.71089845, 45.37288971, 64.08865062, 62.52321166, 71.24150504,\n",
       "       66.14485388, 54.48542471, 73.69189487, 50.86387425, 55.37347699,\n",
       "       79.76723018, 51.93875076, 69.67298305, 54.39213188, 74.57991044,\n",
       "       65.56072333, 63.50472193, 50.95722214, 53.41073172, 58.01362728,\n",
       "       55.46680652, 65.16372899, 71.63574667, 47.91971047, 56.93887924,\n",
       "       52.91998576, 82.31504192, 38.22311833, 49.39178319, 44.29814166,\n",
       "       58.50431819, 71.63611369, 67.03279605, 56.93891594, 64.08865062,\n",
       "       78.29482714])"
      ]
     },
     "execution_count": 126,
     "metadata": {},
     "output_type": "execute_result"
    }
   ],
   "source": [
    "## Prediction for the test data\n",
    "reg_pred_ridge = regression_ridge.predict(x_test)\n",
    "reg_pred_ridge"
   ]
  },
  {
   "cell_type": "code",
   "execution_count": 127,
   "id": "fbc0f888",
   "metadata": {},
   "outputs": [
    {
     "data": {
      "text/plain": [
       "Text(0, 0.5, 'Test predicted data')"
      ]
     },
     "execution_count": 127,
     "metadata": {},
     "output_type": "execute_result"
    },
    {
     "data": {
      "image/png": "[encoded data removed]",
      "text/plain": [
       "<Figure size 720x576 with 1 Axes>"
      ]
     },
     "metadata": {},
     "output_type": "display_data"
    }
   ],
   "source": [
    "plt.scatter(y_test,reg_pred_ridge)\n",
    "plt.xlabel(\"Test truth data\")\n",
    "plt.ylabel(\"Test predicted data\")"
   ]
  },
  {
   "cell_type": "code",
   "execution_count": 132,
   "id": "0bb552d7",
   "metadata": {},
   "outputs": [
    {
     "data": {
      "text/plain": [
       "87     25.949136\n",
       "238     2.589323\n",
       "211     3.626835\n",
       "155   -10.504318\n",
       "130    -7.938641\n",
       "         ...    \n",
       "126     8.363886\n",
       "112   -12.032796\n",
       "235     1.061084\n",
       "176     6.911349\n",
       "11      2.705173\n",
       "Name: RH, Length: 81, dtype: float64"
      ]
     },
     "execution_count": 132,
     "metadata": {},
     "output_type": "execute_result"
    }
   ],
   "source": [
    "residuel_ridge = y_test-reg_pred_ridge\n",
    "residuel_ridge"
   ]
  },
  {
   "cell_type": "code",
   "execution_count": 133,
   "id": "f5a00d2c",
   "metadata": {},
   "outputs": [
    {
     "data": {
      "text/plain": [
       "<seaborn.axisgrid.FacetGrid at 0x1da6e4c6490>"
      ]
     },
     "execution_count": 133,
     "metadata": {},
     "output_type": "execute_result"
    },
    {
     "data": {
      "image/png": "[encoded data removed]",
      "text/plain": [
       "<Figure size 360x360 with 1 Axes>"
      ]
     },
     "metadata": {},
     "output_type": "display_data"
    }
   ],
   "source": [
    "sns.displot(residuel_ridge, kind='kde')"
   ]
  },
  {
   "cell_type": "code",
   "execution_count": 134,
   "id": "0a01a038",
   "metadata": {},
   "outputs": [
    {
     "data": {
      "text/plain": [
       "<AxesSubplot:ylabel='RH'>"
      ]
     },
     "execution_count": 134,
     "metadata": {},
     "output_type": "execute_result"
    },
    {
     "data": {
      "image/png": "[encoded data removed]",
      "text/plain": [
       "<Figure size 720x576 with 1 Axes>"
      ]
     },
     "metadata": {},
     "output_type": "display_data"
    }
   ],
   "source": [
    "# scatter plot with prediction and residuel\n",
    "# Uniformdistribution\n",
    "sns.scatterplot(x = reg_pred_ridge, y=residuel_ridge)"
   ]
  },
  {
   "cell_type": "code",
   "execution_count": 135,
   "id": "bd225f34",
   "metadata": {},
   "outputs": [
    {
     "name": "stdout",
     "output_type": "stream",
     "text": [
      "9.892357077047734\n",
      "9.892357077047734\n",
      "12.1786553828966\n"
     ]
    }
   ],
   "source": [
    "from sklearn.metrics import mean_squared_error\n",
    "from sklearn.metrics import mean_absolute_error\n",
    "print(mean_absolute_error(y_test,reg_pred_ridge))\n",
    "print(mean_absolute_error(y_test, reg_pred_ridge))\n",
    "print(np.sqrt(mean_squared_error(y_test,reg_pred_ridge)))"
   ]
  },
  {
   "cell_type": "markdown",
   "id": "d1a14b85",
   "metadata": {},
   "source": [
    "# Lasso Regression"
   ]
  },
  {
   "cell_type": "code",
   "execution_count": 136,
   "id": "63dfa101",
   "metadata": {},
   "outputs": [
    {
     "data": {
      "text/plain": [
       "Lasso()"
      ]
     },
     "execution_count": 136,
     "metadata": {},
     "output_type": "execute_result"
    }
   ],
   "source": [
    "from sklearn.linear_model import Lasso\n",
    "regression_lasso = Lasso()\n",
    "regression_lasso.fit(x_train, y_train)"
   ]
  },
  {
   "cell_type": "code",
   "execution_count": 137,
   "id": "228106a7",
   "metadata": {},
   "outputs": [
    {
     "name": "stdout",
     "output_type": "stream",
     "text": [
      "[-9.15890789 -0.0165702   0.        ]\n"
     ]
    }
   ],
   "source": [
    "## Print the coefficient and the intercept\n",
    "print(regression_lasso.coef_)"
   ]
  },
  {
   "cell_type": "markdown",
   "id": "0b3e3fe8",
   "metadata": {},
   "source": [
    "* **From above we can clearly observe that Lasso regression is very much useful in feature selection**"
   ]
  },
  {
   "cell_type": "code",
   "execution_count": 138,
   "id": "99a25ff7",
   "metadata": {},
   "outputs": [
    {
     "name": "stdout",
     "output_type": "stream",
     "text": [
      "61.88957055214724\n"
     ]
    }
   ],
   "source": [
    "## Print the coefficient and the intercept\n",
    "print(regression_lasso.intercept_)"
   ]
  },
  {
   "cell_type": "code",
   "execution_count": 139,
   "id": "b263f025",
   "metadata": {},
   "outputs": [
    {
     "data": {
      "text/plain": [
       "array([59.18396605, 53.99676177, 51.3847971 , 59.21019824, 53.98102246,\n",
       "       51.36381135, 77.5464153 , 72.26477515, 64.40789539, 67.0251065 ,\n",
       "       82.72312671, 69.65805692, 51.37430423, 61.83790222, 54.00200821,\n",
       "       51.39004354, 61.83790222, 64.43937402, 59.22069111, 56.59823357,\n",
       "       67.05658513, 51.37430423, 72.25952872, 61.8483951 , 54.00200821,\n",
       "       46.1661142 , 56.60348001, 53.97577602, 59.22069111, 48.77283243,\n",
       "       64.42888114, 74.81378258, 61.83265578, 82.72312671, 72.27526803,\n",
       "       67.05133869, 80.11640848, 59.2049518 , 61.83265578, 64.44462045,\n",
       "       64.42888114, 69.67379623, 56.60348001, 64.46035977, 69.65281048,\n",
       "       72.25952872, 48.75184668, 64.42888114, 61.83265578, 72.2437894 ,\n",
       "       67.03035294, 56.58774069, 72.27002159, 51.39004354, 54.01774752,\n",
       "       77.49395093, 53.98102246, 69.64756405, 54.00725465, 69.70002842,\n",
       "       64.44462045, 61.84314866, 53.97052959, 53.99676177, 59.2049518 ,\n",
       "       56.59823357, 67.01986006, 69.6685498 , 51.35856492, 56.61397288,\n",
       "       53.99151534, 80.10066916, 40.93693842, 51.37430423, 46.16086776,\n",
       "       59.21019824, 69.6685498 , 64.46035977, 56.61397288, 64.42888114,\n",
       "       77.47821162])"
      ]
     },
     "execution_count": 139,
     "metadata": {},
     "output_type": "execute_result"
    }
   ],
   "source": [
    "## Prediction for the test data\n",
    "reg_pred_lasso = regression_lasso.predict(x_test)\n",
    "reg_pred_lasso"
   ]
  },
  {
   "cell_type": "code",
   "execution_count": 140,
   "id": "411856dd",
   "metadata": {},
   "outputs": [
    {
     "data": {
      "text/plain": [
       "Text(0, 0.5, 'Test predicted data')"
      ]
     },
     "execution_count": 140,
     "metadata": {},
     "output_type": "execute_result"
    },
    {
     "data": {
      "image/png": "[encoded data removed]",
      "text/plain": [
       "<Figure size 720x576 with 1 Axes>"
      ]
     },
     "metadata": {},
     "output_type": "display_data"
    }
   ],
   "source": [
    "plt.scatter(y_test,reg_pred_lasso)\n",
    "plt.xlabel(\"Test truth data\")\n",
    "plt.ylabel(\"Test predicted data\")"
   ]
  },
  {
   "cell_type": "code",
   "execution_count": 141,
   "id": "232171ee",
   "metadata": {},
   "outputs": [
    {
     "data": {
      "text/plain": [
       "87     22.816034\n",
       "238     2.003238\n",
       "211     2.615203\n",
       "155   -11.210198\n",
       "130    -9.981022\n",
       "         ...    \n",
       "126    10.331450\n",
       "112    -9.460360\n",
       "235     1.386027\n",
       "176     6.571119\n",
       "11      3.521788\n",
       "Name: RH, Length: 81, dtype: float64"
      ]
     },
     "execution_count": 141,
     "metadata": {},
     "output_type": "execute_result"
    }
   ],
   "source": [
    "residuel_lasso = y_test-reg_pred_lasso\n",
    "residuel_lasso"
   ]
  },
  {
   "cell_type": "code",
   "execution_count": 142,
   "id": "4a172f22",
   "metadata": {},
   "outputs": [
    {
     "data": {
      "text/plain": [
       "<seaborn.axisgrid.FacetGrid at 0x1da6e49daf0>"
      ]
     },
     "execution_count": 142,
     "metadata": {},
     "output_type": "execute_result"
    },
    {
     "data": {
      "image/png": "[encoded data removed]",
      "text/plain": [
       "<Figure size 360x360 with 1 Axes>"
      ]
     },
     "metadata": {},
     "output_type": "display_data"
    }
   ],
   "source": [
    "sns.displot(residuel_lasso, kind='kde')"
   ]
  },
  {
   "cell_type": "code",
   "execution_count": 143,
   "id": "471c2001",
   "metadata": {},
   "outputs": [
    {
     "data": {
      "text/plain": [
       "<AxesSubplot:ylabel='RH'>"
      ]
     },
     "execution_count": 143,
     "metadata": {},
     "output_type": "execute_result"
    },
    {
     "data": {
      "image/png": "[encoded data removed]",
      "text/plain": [
       "<Figure size 720x576 with 1 Axes>"
      ]
     },
     "metadata": {},
     "output_type": "display_data"
    }
   ],
   "source": [
    "# scatter plot with prediction and residuel\n",
    "# Uniformdistribution\n",
    "sns.scatterplot(x = reg_pred_lasso, y=residuel_lasso)"
   ]
  },
  {
   "cell_type": "code",
   "execution_count": 144,
   "id": "4f86a2ef",
   "metadata": {},
   "outputs": [
    {
     "name": "stdout",
     "output_type": "stream",
     "text": [
      "9.402064105571453\n",
      "9.402064105571453\n",
      "11.410243157631955\n"
     ]
    }
   ],
   "source": [
    "from sklearn.metrics import mean_squared_error\n",
    "from sklearn.metrics import mean_absolute_error\n",
    "print(mean_absolute_error(y_test,reg_pred_lasso))\n",
    "print(mean_absolute_error(y_test, reg_pred_lasso))\n",
    "print(np.sqrt(mean_squared_error(y_test,reg_pred_lasso)))"
   ]
  },
  {
   "cell_type": "markdown",
   "id": "6f9b1254",
   "metadata": {},
   "source": [
    "# Putting together the coefficint and their corresponding variable names"
   ]
  },
  {
   "cell_type": "markdown",
   "id": "b15e6d5f",
   "metadata": {},
   "source": [
    "# Linear Regression"
   ]
  },
  {
   "cell_type": "code",
   "execution_count": 147,
   "id": "02083c9b",
   "metadata": {},
   "outputs": [
    {
     "name": "stdout",
     "output_type": "stream",
     "text": [
      "   Column_Name  Coefficient_value\n",
      "0  TEMPERATURE         -10.737415\n",
      "1           Ws          -1.586739\n",
      "2         Rain          -0.022074\n"
     ]
    }
   ],
   "source": [
    "Coefficient_df_Linear = pd.DataFrame()\n",
    "Coefficient_df_Linear[\"Column_Name\"]= x_train_c.columns\n",
    "Coefficient_df_Linear[\"Coefficient_value\"]= pd.Series(reg_linear.coef_)\n",
    "print(Coefficient_df_Linear.head())"
   ]
  },
  {
   "cell_type": "code",
   "execution_count": 149,
   "id": "128cd1c6",
   "metadata": {},
   "outputs": [
    {
     "data": {
      "text/plain": [
       "<BarContainer object of 3 artists>"
      ]
     },
     "execution_count": 149,
     "metadata": {},
     "output_type": "execute_result"
    },
    {
     "data": {
      "image/png": "[encoded data removed]",
      "text/plain": [
       "<Figure size 720x432 with 1 Axes>"
      ]
     },
     "metadata": {},
     "output_type": "display_data"
    }
   ],
   "source": [
    "plt.rcParams['figure.figsize'] = (10,6)\n",
    "\n",
    "plt.bar(Coefficient_df_Linear['Column_Name'],Coefficient_df_Linear[\"Coefficient_value\"])"
   ]
  },
  {
   "cell_type": "markdown",
   "id": "eca0fc48",
   "metadata": {},
   "source": [
    "# Ridge Regression"
   ]
  },
  {
   "cell_type": "code",
   "execution_count": 151,
   "id": "a49b8456",
   "metadata": {},
   "outputs": [
    {
     "name": "stdout",
     "output_type": "stream",
     "text": [
      "   Column_Name  Coefficient_value\n",
      "0  TEMPERATURE         -10.651097\n",
      "1           Ws          -1.549784\n",
      "2         Rain           0.000389\n"
     ]
    }
   ],
   "source": [
    "Coefficient_df_ridge = pd.DataFrame()\n",
    "Coefficient_df_ridge[\"Column_Name\"]= x_train_c.columns\n",
    "Coefficient_df_ridge[\"Coefficient_value\"]= pd.Series(regression_ridge.coef_)\n",
    "print(Coefficient_df_ridge.head())"
   ]
  },
  {
   "cell_type": "code",
   "execution_count": 152,
   "id": "dab667a9",
   "metadata": {},
   "outputs": [
    {
     "data": {
      "text/plain": [
       "<BarContainer object of 3 artists>"
      ]
     },
     "execution_count": 152,
     "metadata": {},
     "output_type": "execute_result"
    },
    {
     "data": {
      "image/png": "[encoded data removed]",
      "text/plain": [
       "<Figure size 720x432 with 1 Axes>"
      ]
     },
     "metadata": {},
     "output_type": "display_data"
    }
   ],
   "source": [
    "plt.rcParams['figure.figsize'] = (10,6)\n",
    "\n",
    "plt.bar(Coefficient_df_ridge['Column_Name'],Coefficient_df_ridge[\"Coefficient_value\"])"
   ]
  },
  {
   "cell_type": "markdown",
   "id": "532a598d",
   "metadata": {},
   "source": [
    "# Lasso Regression"
   ]
  },
  {
   "cell_type": "code",
   "execution_count": 154,
   "id": "e4913cca",
   "metadata": {},
   "outputs": [
    {
     "name": "stdout",
     "output_type": "stream",
     "text": [
      "   Column_Name  Coefficient_value\n",
      "0  TEMPERATURE          -9.158908\n",
      "1           Ws          -0.016570\n",
      "2         Rain           0.000000\n"
     ]
    }
   ],
   "source": [
    "Coefficient_df_lasso = pd.DataFrame()\n",
    "Coefficient_df_lasso[\"Column_Name\"]= x_train_c.columns\n",
    "Coefficient_df_lasso[\"Coefficient_value\"]= pd.Series(regression_lasso.coef_)\n",
    "print(Coefficient_df_lasso.head())"
   ]
  },
  {
   "cell_type": "code",
   "execution_count": 155,
   "id": "21e17605",
   "metadata": {},
   "outputs": [
    {
     "data": {
      "text/plain": [
       "<BarContainer object of 3 artists>"
      ]
     },
     "execution_count": 155,
     "metadata": {},
     "output_type": "execute_result"
    },
    {
     "data": {
      "image/png": "[encoded data removed]",
      "text/plain": [
       "<Figure size 720x432 with 1 Axes>"
      ]
     },
     "metadata": {},
     "output_type": "display_data"
    }
   ],
   "source": [
    "plt.rcParams['figure.figsize'] = (10,6)\n",
    "\n",
    "plt.bar(Coefficient_df_lasso['Column_Name'],Coefficient_df_lasso[\"Coefficient_value\"])"
   ]
  },
  {
   "cell_type": "markdown",
   "id": "7e0cc34a",
   "metadata": {},
   "source": [
    "* **Comparision of graph show that how effective lasso regression is for feature selection**"
   ]
  },
  {
   "cell_type": "markdown",
   "id": "2d1eca7a",
   "metadata": {},
   "source": [
    "**Thank You**"
   ]
  }
 ],
 "metadata": {
  "kernelspec": {
   "display_name": "Python 3 (ipykernel)",
   "language": "python",
   "name": "python3"
  },
  "language_info": {
   "codemirror_mode": {
    "name": "ipython",
    "version": 3
   },
   "file_extension": ".py",
   "mimetype": "text/x-python",
   "name": "python",
   "nbconvert_exporter": "python",
   "pygments_lexer": "ipython3",
   "version": "3.9.12"
  }
 },
 "nbformat": 4,
 "nbformat_minor": 5
}
